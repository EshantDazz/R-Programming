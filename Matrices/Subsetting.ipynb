{
  "nbformat": 4,
  "nbformat_minor": 0,
  "metadata": {
    "colab": {
      "provenance": [],
      "authorship_tag": "ABX9TyOcwnuF3UcddYTcG4YeN53h",
      "include_colab_link": true
    },
    "kernelspec": {
      "name": "ir",
      "display_name": "R"
    },
    "language_info": {
      "name": "R"
    }
  },
  "cells": [
    {
      "cell_type": "markdown",
      "metadata": {
        "id": "view-in-github",
        "colab_type": "text"
      },
      "source": [
        "<a href=\"https://colab.research.google.com/github/EshantDazz/R-Programming/blob/main/Matrices/Subsetting.ipynb\" target=\"_parent\"><img src=\"https://colab.research.google.com/assets/colab-badge.svg\" alt=\"Open In Colab\"/></a>"
      ]
    },
    {
      "cell_type": "code",
      "execution_count": 2,
      "metadata": {
        "colab": {
          "base_uri": "https://localhost:8080/",
          "height": 34
        },
        "id": "jWpXZZXa0r_c",
        "outputId": "73b15c49-f66a-4ce6-c615-dd8d5b4cbc73"
      },
      "outputs": [
        {
          "output_type": "display_data",
          "data": {
            "text/html": [
              "<style>\n",
              ".list-inline {list-style: none; margin:0; padding: 0}\n",
              ".list-inline>li {display: inline-block}\n",
              ".list-inline>li:not(:last-child)::after {content: \"\\00b7\"; padding: 0 .5ex}\n",
              "</style>\n",
              "<ol class=list-inline><li>1</li><li>2</li><li>3</li><li>4</li><li>5</li></ol>\n"
            ],
            "text/markdown": "1. 1\n2. 2\n3. 3\n4. 4\n5. 5\n\n\n",
            "text/latex": "\\begin{enumerate*}\n\\item 1\n\\item 2\n\\item 3\n\\item 4\n\\item 5\n\\end{enumerate*}\n",
            "text/plain": [
              "[1] 1 2 3 4 5"
            ]
          },
          "metadata": {}
        }
      ],
      "source": [
        "x<-c(1,2,3,4,5)\n",
        "x"
      ]
    },
    {
      "cell_type": "code",
      "source": [
        "x[1]"
      ],
      "metadata": {
        "colab": {
          "base_uri": "https://localhost:8080/",
          "height": 34
        },
        "id": "wB5p3BaA0uCs",
        "outputId": "5c42c788-3a6a-496c-9799-15dd682ed566"
      },
      "execution_count": 4,
      "outputs": [
        {
          "output_type": "display_data",
          "data": {
            "text/html": [
              "1"
            ],
            "text/markdown": "1",
            "text/latex": "1",
            "text/plain": [
              "[1] 1"
            ]
          },
          "metadata": {}
        }
      ]
    },
    {
      "cell_type": "code",
      "source": [
        "x[1:3]"
      ],
      "metadata": {
        "colab": {
          "base_uri": "https://localhost:8080/",
          "height": 34
        },
        "id": "7gSQXd-y1ONV",
        "outputId": "1035edfe-d6c4-48aa-8980-e18bf4bc3624"
      },
      "execution_count": 5,
      "outputs": [
        {
          "output_type": "display_data",
          "data": {
            "text/html": [
              "<style>\n",
              ".list-inline {list-style: none; margin:0; padding: 0}\n",
              ".list-inline>li {display: inline-block}\n",
              ".list-inline>li:not(:last-child)::after {content: \"\\00b7\"; padding: 0 .5ex}\n",
              "</style>\n",
              "<ol class=list-inline><li>1</li><li>2</li><li>3</li></ol>\n"
            ],
            "text/markdown": "1. 1\n2. 2\n3. 3\n\n\n",
            "text/latex": "\\begin{enumerate*}\n\\item 1\n\\item 2\n\\item 3\n\\end{enumerate*}\n",
            "text/plain": [
              "[1] 1 2 3"
            ]
          },
          "metadata": {}
        }
      ]
    },
    {
      "cell_type": "code",
      "source": [
        "print(x[c(1,5)])"
      ],
      "metadata": {
        "colab": {
          "base_uri": "https://localhost:8080/"
        },
        "id": "PlquLzQv1SSR",
        "outputId": "73f4fe7c-594b-42e0-9bf2-6b3b8a51a6af"
      },
      "execution_count": 7,
      "outputs": [
        {
          "output_type": "stream",
          "name": "stdout",
          "text": [
            "[1] 1 5\n"
          ]
        }
      ]
    },
    {
      "cell_type": "code",
      "source": [],
      "metadata": {
        "id": "_MfuBLdq1UH2"
      },
      "execution_count": null,
      "outputs": []
    },
    {
      "cell_type": "code",
      "source": [
        "\n",
        "#Instructions for this dataset:\n",
        "# Simply select ALL the lines in this script by pressing \n",
        "# CTRL+A on Windows or CMND+A on a Mac and execute them\n",
        "# Once you have executed the commands the following objects\n",
        "# will be created:\n",
        "# Matrices:\n",
        "# - FieldGoalAttempts\n",
        "# - FieldGoals\n",
        "# - Games\n",
        "# - MinutesPlayed\n",
        "# - Salary\n",
        "# Vectors:\n",
        "# - Players\n",
        "# - Seasons\n",
        "#We will go understand these inside the course.\n",
        "#\n",
        "#Sincerely,\n",
        "#Kirill Eremenko\n",
        "#www.superdatascience.com\n",
        "\n",
        "#Copyright: These datasets were prepared using publicly available data.\n",
        "#           However, theses scripts are subject to Copyright Laws. \n",
        "#           If you wish to use these R scripts outside of the R Programming Course\n",
        "#           by Kirill Eremenko, you may do so by referencing www.superdatascience.com in your work.\n",
        "\n",
        "#Comments:\n",
        "#Seasons are labeled based on the first year in the season\n",
        "#E.g. the 2012-2013 season is preseneted as simply 2012\n",
        "\n",
        "#Notes and Corrections to the data:\n",
        "#Kevin Durant: 2006 - College Data Used\n",
        "#Kevin Durant: 2005 - Proxied With 2006 Data\n",
        "#Derrick Rose: 2012 - Did Not Play\n",
        "#Derrick Rose: 2007 - College Data Used\n",
        "#Derrick Rose: 2006 - Proxied With 2007 Data\n",
        "#Derrick Rose: 2005 - Proxied With 2007 Data\n",
        "\n",
        "#Seasons\n",
        "Seasons <- c(\"2005\",\"2006\",\"2007\",\"2008\",\"2009\",\"2010\",\"2011\",\"2012\",\"2013\",\"2014\")\n",
        "\n",
        "#Players\n",
        "Players <- c(\"KobeBryant\",\"JoeJohnson\",\"LeBronJames\",\"CarmeloAnthony\",\"DwightHoward\",\"ChrisBosh\",\"ChrisPaul\",\"KevinDurant\",\"DerrickRose\",\"DwayneWade\")\n",
        "\n",
        "#Salaries\n",
        "KobeBryant_Salary <- c(15946875,17718750,19490625,21262500,23034375,24806250,25244493,27849149,30453805,23500000)\n",
        "JoeJohnson_Salary <- c(12000000,12744189,13488377,14232567,14976754,16324500,18038573,19752645,21466718,23180790)\n",
        "LeBronJames_Salary <- c(4621800,5828090,13041250,14410581,15779912,14500000,16022500,17545000,19067500,20644400)\n",
        "CarmeloAnthony_Salary <- c(3713640,4694041,13041250,14410581,15779912,17149243,18518574,19450000,22407474,22458000)\n",
        "DwightHoward_Salary <- c(4493160,4806720,6061274,13758000,15202590,16647180,18091770,19536360,20513178,21436271)\n",
        "ChrisBosh_Salary <- c(3348000,4235220,12455000,14410581,15779912,14500000,16022500,17545000,19067500,20644400)\n",
        "ChrisPaul_Salary <- c(3144240,3380160,3615960,4574189,13520500,14940153,16359805,17779458,18668431,20068563)\n",
        "KevinDurant_Salary <- c(0,0,4171200,4484040,4796880,6053663,15506632,16669630,17832627,18995624)\n",
        "DerrickRose_Salary <- c(0,0,0,4822800,5184480,5546160,6993708,16402500,17632688,18862875)\n",
        "DwayneWade_Salary <- c(3031920,3841443,13041250,14410581,15779912,14200000,15691000,17182000,18673000,15000000)\n",
        "#Matrix\n",
        "Salary <- rbind(KobeBryant_Salary, JoeJohnson_Salary, LeBronJames_Salary, CarmeloAnthony_Salary, DwightHoward_Salary, ChrisBosh_Salary, ChrisPaul_Salary, KevinDurant_Salary, DerrickRose_Salary, DwayneWade_Salary)\n",
        "rm(KobeBryant_Salary, JoeJohnson_Salary, CarmeloAnthony_Salary, DwightHoward_Salary, ChrisBosh_Salary, LeBronJames_Salary, ChrisPaul_Salary, DerrickRose_Salary, DwayneWade_Salary, KevinDurant_Salary)\n",
        "colnames(Salary) <- Seasons\n",
        "rownames(Salary) <- Players\n",
        "\n",
        "#Games \n",
        "KobeBryant_G <- c(80,77,82,82,73,82,58,78,6,35)\n",
        "JoeJohnson_G <- c(82,57,82,79,76,72,60,72,79,80)\n",
        "LeBronJames_G <- c(79,78,75,81,76,79,62,76,77,69)\n",
        "CarmeloAnthony_G <- c(80,65,77,66,69,77,55,67,77,40)\n",
        "DwightHoward_G <- c(82,82,82,79,82,78,54,76,71,41)\n",
        "ChrisBosh_G <- c(70,69,67,77,70,77,57,74,79,44)\n",
        "ChrisPaul_G <- c(78,64,80,78,45,80,60,70,62,82)\n",
        "KevinDurant_G <- c(35,35,80,74,82,78,66,81,81,27)\n",
        "DerrickRose_G <- c(40,40,40,81,78,81,39,0,10,51)\n",
        "DwayneWade_G <- c(75,51,51,79,77,76,49,69,54,62)\n",
        "#Matrix\n",
        "Games <- rbind(KobeBryant_G, JoeJohnson_G, LeBronJames_G, CarmeloAnthony_G, DwightHoward_G, ChrisBosh_G, ChrisPaul_G, KevinDurant_G, DerrickRose_G, DwayneWade_G)\n",
        "rm(KobeBryant_G, JoeJohnson_G, CarmeloAnthony_G, DwightHoward_G, ChrisBosh_G, LeBronJames_G, ChrisPaul_G, DerrickRose_G, DwayneWade_G, KevinDurant_G)\n",
        "colnames(Games) <- Seasons\n",
        "rownames(Games) <- Players\n",
        "\n",
        "#Minutes Played\n",
        "KobeBryant_MP <- c(3277,3140,3192,2960,2835,2779,2232,3013,177,1207)\n",
        "JoeJohnson_MP <- c(3340,2359,3343,3124,2886,2554,2127,2642,2575,2791)\n",
        "LeBronJames_MP <- c(3361,3190,3027,3054,2966,3063,2326,2877,2902,2493)\n",
        "CarmeloAnthony_MP <- c(2941,2486,2806,2277,2634,2751,1876,2482,2982,1428)\n",
        "DwightHoward_MP <- c(3021,3023,3088,2821,2843,2935,2070,2722,2396,1223)\n",
        "ChrisBosh_MP <- c(2751,2658,2425,2928,2526,2795,2007,2454,2531,1556)\n",
        "ChrisPaul_MP <- c(2808,2353,3006,3002,1712,2880,2181,2335,2171,2857)\n",
        "KevinDurant_MP <- c(1255,1255,2768,2885,3239,3038,2546,3119,3122,913)\n",
        "DerrickRose_MP <- c(1168,1168,1168,3000,2871,3026,1375,0,311,1530)\n",
        "DwayneWade_MP <- c(2892,1931,1954,3048,2792,2823,1625,2391,1775,1971)\n",
        "#Matrix\n",
        "MinutesPlayed <- rbind(KobeBryant_MP, JoeJohnson_MP, LeBronJames_MP, CarmeloAnthony_MP, DwightHoward_MP, ChrisBosh_MP, ChrisPaul_MP, KevinDurant_MP, DerrickRose_MP, DwayneWade_MP)\n",
        "rm(KobeBryant_MP, JoeJohnson_MP, CarmeloAnthony_MP, DwightHoward_MP, ChrisBosh_MP, LeBronJames_MP, ChrisPaul_MP, DerrickRose_MP, DwayneWade_MP, KevinDurant_MP)\n",
        "colnames(MinutesPlayed) <- Seasons\n",
        "rownames(MinutesPlayed) <- Players\n",
        "\n",
        "#Field Goals\n",
        "KobeBryant_FG <- c(978,813,775,800,716,740,574,738,31,266)\n",
        "JoeJohnson_FG <- c(632,536,647,620,635,514,423,445,462,446)\n",
        "LeBronJames_FG <- c(875,772,794,789,768,758,621,765,767,624)\n",
        "CarmeloAnthony_FG <- c(756,691,728,535,688,684,441,669,743,358)\n",
        "DwightHoward_FG <- c(468,526,583,560,510,619,416,470,473,251)\n",
        "ChrisBosh_FG <- c(549,543,507,615,600,524,393,485,492,343)\n",
        "ChrisPaul_FG <- c(407,381,630,631,314,430,425,412,406,568)\n",
        "KevinDurant_FG <- c(306,306,587,661,794,711,643,731,849,238)\n",
        "DerrickRose_FG <- c(208,208,208,574,672,711,302,0,58,338)\n",
        "DwayneWade_FG <- c(699,472,439,854,719,692,416,569,415,509)\n",
        "#Matrix\n",
        "FieldGoals <- rbind(KobeBryant_FG, JoeJohnson_FG, LeBronJames_FG, CarmeloAnthony_FG, DwightHoward_FG, ChrisBosh_FG, ChrisPaul_FG, KevinDurant_FG, DerrickRose_FG, DwayneWade_FG)\n",
        "rm(KobeBryant_FG, JoeJohnson_FG, LeBronJames_FG, CarmeloAnthony_FG, DwightHoward_FG, ChrisBosh_FG, ChrisPaul_FG, KevinDurant_FG, DerrickRose_FG, DwayneWade_FG)\n",
        "colnames(FieldGoals) <- Seasons\n",
        "rownames(FieldGoals) <- Players\n",
        "\n",
        "#Field Goal Attempts\n",
        "KobeBryant_FGA <- c(2173,1757,1690,1712,1569,1639,1336,1595,73,713)\n",
        "JoeJohnson_FGA <- c(1395,1139,1497,1420,1386,1161,931,1052,1018,1025)\n",
        "LeBronJames_FGA <- c(1823,1621,1642,1613,1528,1485,1169,1354,1353,1279)\n",
        "CarmeloAnthony_FGA <- c(1572,1453,1481,1207,1502,1503,1025,1489,1643,806)\n",
        "DwightHoward_FGA <- c(881,873,974,979,834,1044,726,813,800,423)\n",
        "ChrisBosh_FGA <- c(1087,1094,1027,1263,1158,1056,807,907,953,745)\n",
        "ChrisPaul_FGA <- c(947,871,1291,1255,637,928,890,856,870,1170)\n",
        "KevinDurant_FGA <- c(647,647,1366,1390,1668,1538,1297,1433,1688,467)\n",
        "DerrickRose_FGA <- c(436,436,436,1208,1373,1597,695,0,164,835)\n",
        "DwayneWade_FGA <- c(1413,962,937,1739,1511,1384,837,1093,761,1084)\n",
        "#Matrix\n",
        "FieldGoalAttempts <- rbind(KobeBryant_FGA, JoeJohnson_FGA, LeBronJames_FGA, CarmeloAnthony_FGA, DwightHoward_FGA, ChrisBosh_FGA, ChrisPaul_FGA, KevinDurant_FGA, DerrickRose_FGA, DwayneWade_FGA)\n",
        "rm(KobeBryant_FGA, JoeJohnson_FGA, LeBronJames_FGA, CarmeloAnthony_FGA, DwightHoward_FGA, ChrisBosh_FGA, ChrisPaul_FGA, KevinDurant_FGA, DerrickRose_FGA, DwayneWade_FGA)\n",
        "colnames(FieldGoalAttempts) <- Seasons\n",
        "rownames(FieldGoalAttempts) <- Players\n",
        "\n",
        "#Points\n",
        "KobeBryant_PTS <- c(2832,2430,2323,2201,1970,2078,1616,2133,83,782)\n",
        "JoeJohnson_PTS <- c(1653,1426,1779,1688,1619,1312,1129,1170,1245,1154)\n",
        "LeBronJames_PTS <- c(2478,2132,2250,2304,2258,2111,1683,2036,2089,1743)\n",
        "CarmeloAnthony_PTS <- c(2122,1881,1978,1504,1943,1970,1245,1920,2112,966)\n",
        "DwightHoward_PTS <- c(1292,1443,1695,1624,1503,1784,1113,1296,1297,646)\n",
        "ChrisBosh_PTS <- c(1572,1561,1496,1746,1678,1438,1025,1232,1281,928)\n",
        "ChrisPaul_PTS <- c(1258,1104,1684,1781,841,1268,1189,1186,1185,1564)\n",
        "KevinDurant_PTS <- c(903,903,1624,1871,2472,2161,1850,2280,2593,686)\n",
        "DerrickRose_PTS <- c(597,597,597,1361,1619,2026,852,0,159,904)\n",
        "DwayneWade_PTS <- c(2040,1397,1254,2386,2045,1941,1082,1463,1028,1331)\n",
        "#Matrix\n",
        "Points <- rbind(KobeBryant_PTS, JoeJohnson_PTS, LeBronJames_PTS, CarmeloAnthony_PTS, DwightHoward_PTS, ChrisBosh_PTS, ChrisPaul_PTS, KevinDurant_PTS, DerrickRose_PTS, DwayneWade_PTS)\n",
        "rm(KobeBryant_PTS, JoeJohnson_PTS, LeBronJames_PTS, CarmeloAnthony_PTS, DwightHoward_PTS, ChrisBosh_PTS, ChrisPaul_PTS, KevinDurant_PTS, DerrickRose_PTS, DwayneWade_PTS)\n",
        "colnames(Points) <- Seasons\n",
        "rownames(Points) <- Players"
      ],
      "metadata": {
        "id": "pMKDqUPX1Wn8"
      },
      "execution_count": 14,
      "outputs": []
    },
    {
      "cell_type": "code",
      "source": [],
      "metadata": {
        "id": "Ti_ieZny2tgF"
      },
      "execution_count": null,
      "outputs": []
    },
    {
      "cell_type": "code",
      "source": [
        "Games"
      ],
      "metadata": {
        "colab": {
          "base_uri": "https://localhost:8080/",
          "height": 380
        },
        "id": "-ZHpiJPi2tii",
        "outputId": "bf848e8f-8aa8-4ff7-eed4-2b50835f25d7"
      },
      "execution_count": 9,
      "outputs": [
        {
          "output_type": "display_data",
          "data": {
            "text/html": [
              "<table class=\"dataframe\">\n",
              "<caption>A matrix: 10 × 10 of type dbl</caption>\n",
              "<thead>\n",
              "\t<tr><th></th><th scope=col>2005</th><th scope=col>2006</th><th scope=col>2007</th><th scope=col>2008</th><th scope=col>2009</th><th scope=col>2010</th><th scope=col>2011</th><th scope=col>2012</th><th scope=col>2013</th><th scope=col>2014</th></tr>\n",
              "</thead>\n",
              "<tbody>\n",
              "\t<tr><th scope=row>KobeBryant</th><td>80</td><td>77</td><td>82</td><td>82</td><td>73</td><td>82</td><td>58</td><td>78</td><td> 6</td><td>35</td></tr>\n",
              "\t<tr><th scope=row>JoeJohnson</th><td>82</td><td>57</td><td>82</td><td>79</td><td>76</td><td>72</td><td>60</td><td>72</td><td>79</td><td>80</td></tr>\n",
              "\t<tr><th scope=row>LeBronJames</th><td>79</td><td>78</td><td>75</td><td>81</td><td>76</td><td>79</td><td>62</td><td>76</td><td>77</td><td>69</td></tr>\n",
              "\t<tr><th scope=row>CarmeloAnthony</th><td>80</td><td>65</td><td>77</td><td>66</td><td>69</td><td>77</td><td>55</td><td>67</td><td>77</td><td>40</td></tr>\n",
              "\t<tr><th scope=row>DwightHoward</th><td>82</td><td>82</td><td>82</td><td>79</td><td>82</td><td>78</td><td>54</td><td>76</td><td>71</td><td>41</td></tr>\n",
              "\t<tr><th scope=row>ChrisBosh</th><td>70</td><td>69</td><td>67</td><td>77</td><td>70</td><td>77</td><td>57</td><td>74</td><td>79</td><td>44</td></tr>\n",
              "\t<tr><th scope=row>ChrisPaul</th><td>78</td><td>64</td><td>80</td><td>78</td><td>45</td><td>80</td><td>60</td><td>70</td><td>62</td><td>82</td></tr>\n",
              "\t<tr><th scope=row>KevinDurant</th><td>35</td><td>35</td><td>80</td><td>74</td><td>82</td><td>78</td><td>66</td><td>81</td><td>81</td><td>27</td></tr>\n",
              "\t<tr><th scope=row>DerrickRose</th><td>40</td><td>40</td><td>40</td><td>81</td><td>78</td><td>81</td><td>39</td><td> 0</td><td>10</td><td>51</td></tr>\n",
              "\t<tr><th scope=row>DwayneWade</th><td>75</td><td>51</td><td>51</td><td>79</td><td>77</td><td>76</td><td>49</td><td>69</td><td>54</td><td>62</td></tr>\n",
              "</tbody>\n",
              "</table>\n"
            ],
            "text/markdown": "\nA matrix: 10 × 10 of type dbl\n\n| <!--/--> | 2005 | 2006 | 2007 | 2008 | 2009 | 2010 | 2011 | 2012 | 2013 | 2014 |\n|---|---|---|---|---|---|---|---|---|---|---|\n| KobeBryant | 80 | 77 | 82 | 82 | 73 | 82 | 58 | 78 |  6 | 35 |\n| JoeJohnson | 82 | 57 | 82 | 79 | 76 | 72 | 60 | 72 | 79 | 80 |\n| LeBronJames | 79 | 78 | 75 | 81 | 76 | 79 | 62 | 76 | 77 | 69 |\n| CarmeloAnthony | 80 | 65 | 77 | 66 | 69 | 77 | 55 | 67 | 77 | 40 |\n| DwightHoward | 82 | 82 | 82 | 79 | 82 | 78 | 54 | 76 | 71 | 41 |\n| ChrisBosh | 70 | 69 | 67 | 77 | 70 | 77 | 57 | 74 | 79 | 44 |\n| ChrisPaul | 78 | 64 | 80 | 78 | 45 | 80 | 60 | 70 | 62 | 82 |\n| KevinDurant | 35 | 35 | 80 | 74 | 82 | 78 | 66 | 81 | 81 | 27 |\n| DerrickRose | 40 | 40 | 40 | 81 | 78 | 81 | 39 |  0 | 10 | 51 |\n| DwayneWade | 75 | 51 | 51 | 79 | 77 | 76 | 49 | 69 | 54 | 62 |\n\n",
            "text/latex": "A matrix: 10 × 10 of type dbl\n\\begin{tabular}{r|llllllllll}\n  & 2005 & 2006 & 2007 & 2008 & 2009 & 2010 & 2011 & 2012 & 2013 & 2014\\\\\n\\hline\n\tKobeBryant & 80 & 77 & 82 & 82 & 73 & 82 & 58 & 78 &  6 & 35\\\\\n\tJoeJohnson & 82 & 57 & 82 & 79 & 76 & 72 & 60 & 72 & 79 & 80\\\\\n\tLeBronJames & 79 & 78 & 75 & 81 & 76 & 79 & 62 & 76 & 77 & 69\\\\\n\tCarmeloAnthony & 80 & 65 & 77 & 66 & 69 & 77 & 55 & 67 & 77 & 40\\\\\n\tDwightHoward & 82 & 82 & 82 & 79 & 82 & 78 & 54 & 76 & 71 & 41\\\\\n\tChrisBosh & 70 & 69 & 67 & 77 & 70 & 77 & 57 & 74 & 79 & 44\\\\\n\tChrisPaul & 78 & 64 & 80 & 78 & 45 & 80 & 60 & 70 & 62 & 82\\\\\n\tKevinDurant & 35 & 35 & 80 & 74 & 82 & 78 & 66 & 81 & 81 & 27\\\\\n\tDerrickRose & 40 & 40 & 40 & 81 & 78 & 81 & 39 &  0 & 10 & 51\\\\\n\tDwayneWade & 75 & 51 & 51 & 79 & 77 & 76 & 49 & 69 & 54 & 62\\\\\n\\end{tabular}\n",
            "text/plain": [
              "               2005 2006 2007 2008 2009 2010 2011 2012 2013 2014\n",
              "KobeBryant     80   77   82   82   73   82   58   78    6   35  \n",
              "JoeJohnson     82   57   82   79   76   72   60   72   79   80  \n",
              "LeBronJames    79   78   75   81   76   79   62   76   77   69  \n",
              "CarmeloAnthony 80   65   77   66   69   77   55   67   77   40  \n",
              "DwightHoward   82   82   82   79   82   78   54   76   71   41  \n",
              "ChrisBosh      70   69   67   77   70   77   57   74   79   44  \n",
              "ChrisPaul      78   64   80   78   45   80   60   70   62   82  \n",
              "KevinDurant    35   35   80   74   82   78   66   81   81   27  \n",
              "DerrickRose    40   40   40   81   78   81   39    0   10   51  \n",
              "DwayneWade     75   51   51   79   77   76   49   69   54   62  "
            ]
          },
          "metadata": {}
        }
      ]
    },
    {
      "cell_type": "code",
      "source": [],
      "metadata": {
        "id": "9S--I_V42ueE"
      },
      "execution_count": 10,
      "outputs": []
    },
    {
      "cell_type": "markdown",
      "source": [
        "## Slicing Matrices in R"
      ],
      "metadata": {
        "id": "Y09jDnHh21zT"
      }
    },
    {
      "cell_type": "code",
      "source": [
        "Games[1:3,6:10]"
      ],
      "metadata": {
        "colab": {
          "base_uri": "https://localhost:8080/",
          "height": 161
        },
        "id": "zx36bFij25eO",
        "outputId": "7e5aa273-1f21-4deb-cfb9-533fa3278036"
      },
      "execution_count": 11,
      "outputs": [
        {
          "output_type": "display_data",
          "data": {
            "text/html": [
              "<table class=\"dataframe\">\n",
              "<caption>A matrix: 3 × 5 of type dbl</caption>\n",
              "<thead>\n",
              "\t<tr><th></th><th scope=col>2010</th><th scope=col>2011</th><th scope=col>2012</th><th scope=col>2013</th><th scope=col>2014</th></tr>\n",
              "</thead>\n",
              "<tbody>\n",
              "\t<tr><th scope=row>KobeBryant</th><td>82</td><td>58</td><td>78</td><td> 6</td><td>35</td></tr>\n",
              "\t<tr><th scope=row>JoeJohnson</th><td>72</td><td>60</td><td>72</td><td>79</td><td>80</td></tr>\n",
              "\t<tr><th scope=row>LeBronJames</th><td>79</td><td>62</td><td>76</td><td>77</td><td>69</td></tr>\n",
              "</tbody>\n",
              "</table>\n"
            ],
            "text/markdown": "\nA matrix: 3 × 5 of type dbl\n\n| <!--/--> | 2010 | 2011 | 2012 | 2013 | 2014 |\n|---|---|---|---|---|---|\n| KobeBryant | 82 | 58 | 78 |  6 | 35 |\n| JoeJohnson | 72 | 60 | 72 | 79 | 80 |\n| LeBronJames | 79 | 62 | 76 | 77 | 69 |\n\n",
            "text/latex": "A matrix: 3 × 5 of type dbl\n\\begin{tabular}{r|lllll}\n  & 2010 & 2011 & 2012 & 2013 & 2014\\\\\n\\hline\n\tKobeBryant & 82 & 58 & 78 &  6 & 35\\\\\n\tJoeJohnson & 72 & 60 & 72 & 79 & 80\\\\\n\tLeBronJames & 79 & 62 & 76 & 77 & 69\\\\\n\\end{tabular}\n",
            "text/plain": [
              "            2010 2011 2012 2013 2014\n",
              "KobeBryant  82   58   78    6   35  \n",
              "JoeJohnson  72   60   72   79   80  \n",
              "LeBronJames 79   62   76   77   69  "
            ]
          },
          "metadata": {}
        }
      ]
    },
    {
      "cell_type": "code",
      "source": [],
      "metadata": {
        "id": "WFVDevj_28DR"
      },
      "execution_count": null,
      "outputs": []
    },
    {
      "cell_type": "code",
      "source": [],
      "metadata": {
        "id": "KJTcUem73BCB"
      },
      "execution_count": null,
      "outputs": []
    },
    {
      "cell_type": "code",
      "source": [
        "Games[c(1,10),]. #Getting 1st and the 10th row"
      ],
      "metadata": {
        "colab": {
          "base_uri": "https://localhost:8080/",
          "height": 129
        },
        "id": "A-aJskjU3BOq",
        "outputId": "edc59889-d224-404e-82e7-4090dfa09eb9"
      },
      "execution_count": 13,
      "outputs": [
        {
          "output_type": "display_data",
          "data": {
            "text/html": [
              "<table class=\"dataframe\">\n",
              "<caption>A matrix: 2 × 10 of type dbl</caption>\n",
              "<thead>\n",
              "\t<tr><th></th><th scope=col>2005</th><th scope=col>2006</th><th scope=col>2007</th><th scope=col>2008</th><th scope=col>2009</th><th scope=col>2010</th><th scope=col>2011</th><th scope=col>2012</th><th scope=col>2013</th><th scope=col>2014</th></tr>\n",
              "</thead>\n",
              "<tbody>\n",
              "\t<tr><th scope=row>KobeBryant</th><td>80</td><td>77</td><td>82</td><td>82</td><td>73</td><td>82</td><td>58</td><td>78</td><td> 6</td><td>35</td></tr>\n",
              "\t<tr><th scope=row>DwayneWade</th><td>75</td><td>51</td><td>51</td><td>79</td><td>77</td><td>76</td><td>49</td><td>69</td><td>54</td><td>62</td></tr>\n",
              "</tbody>\n",
              "</table>\n"
            ],
            "text/markdown": "\nA matrix: 2 × 10 of type dbl\n\n| <!--/--> | 2005 | 2006 | 2007 | 2008 | 2009 | 2010 | 2011 | 2012 | 2013 | 2014 |\n|---|---|---|---|---|---|---|---|---|---|---|\n| KobeBryant | 80 | 77 | 82 | 82 | 73 | 82 | 58 | 78 |  6 | 35 |\n| DwayneWade | 75 | 51 | 51 | 79 | 77 | 76 | 49 | 69 | 54 | 62 |\n\n",
            "text/latex": "A matrix: 2 × 10 of type dbl\n\\begin{tabular}{r|llllllllll}\n  & 2005 & 2006 & 2007 & 2008 & 2009 & 2010 & 2011 & 2012 & 2013 & 2014\\\\\n\\hline\n\tKobeBryant & 80 & 77 & 82 & 82 & 73 & 82 & 58 & 78 &  6 & 35\\\\\n\tDwayneWade & 75 & 51 & 51 & 79 & 77 & 76 & 49 & 69 & 54 & 62\\\\\n\\end{tabular}\n",
            "text/plain": [
              "           2005 2006 2007 2008 2009 2010 2011 2012 2013 2014\n",
              "KobeBryant 80   77   82   82   73   82   58   78    6   35  \n",
              "DwayneWade 75   51   51   79   77   76   49   69   54   62  "
            ]
          },
          "metadata": {}
        }
      ]
    },
    {
      "cell_type": "code",
      "source": [],
      "metadata": {
        "id": "zHbL_3Z53Dlz"
      },
      "execution_count": 15,
      "outputs": []
    },
    {
      "cell_type": "code",
      "source": [
        "Games[,c('2008','2010')]"
      ],
      "metadata": {
        "colab": {
          "base_uri": "https://localhost:8080/",
          "height": 380
        },
        "id": "2zuGpT_Y3Occ",
        "outputId": "019a99d6-c206-47f2-e152-5612d265d602"
      },
      "execution_count": 17,
      "outputs": [
        {
          "output_type": "display_data",
          "data": {
            "text/html": [
              "<table class=\"dataframe\">\n",
              "<caption>A matrix: 10 × 2 of type dbl</caption>\n",
              "<thead>\n",
              "\t<tr><th></th><th scope=col>2008</th><th scope=col>2010</th></tr>\n",
              "</thead>\n",
              "<tbody>\n",
              "\t<tr><th scope=row>KobeBryant</th><td>82</td><td>82</td></tr>\n",
              "\t<tr><th scope=row>JoeJohnson</th><td>79</td><td>72</td></tr>\n",
              "\t<tr><th scope=row>LeBronJames</th><td>81</td><td>79</td></tr>\n",
              "\t<tr><th scope=row>CarmeloAnthony</th><td>66</td><td>77</td></tr>\n",
              "\t<tr><th scope=row>DwightHoward</th><td>79</td><td>78</td></tr>\n",
              "\t<tr><th scope=row>ChrisBosh</th><td>77</td><td>77</td></tr>\n",
              "\t<tr><th scope=row>ChrisPaul</th><td>78</td><td>80</td></tr>\n",
              "\t<tr><th scope=row>KevinDurant</th><td>74</td><td>78</td></tr>\n",
              "\t<tr><th scope=row>DerrickRose</th><td>81</td><td>81</td></tr>\n",
              "\t<tr><th scope=row>DwayneWade</th><td>79</td><td>76</td></tr>\n",
              "</tbody>\n",
              "</table>\n"
            ],
            "text/markdown": "\nA matrix: 10 × 2 of type dbl\n\n| <!--/--> | 2008 | 2010 |\n|---|---|---|\n| KobeBryant | 82 | 82 |\n| JoeJohnson | 79 | 72 |\n| LeBronJames | 81 | 79 |\n| CarmeloAnthony | 66 | 77 |\n| DwightHoward | 79 | 78 |\n| ChrisBosh | 77 | 77 |\n| ChrisPaul | 78 | 80 |\n| KevinDurant | 74 | 78 |\n| DerrickRose | 81 | 81 |\n| DwayneWade | 79 | 76 |\n\n",
            "text/latex": "A matrix: 10 × 2 of type dbl\n\\begin{tabular}{r|ll}\n  & 2008 & 2010\\\\\n\\hline\n\tKobeBryant & 82 & 82\\\\\n\tJoeJohnson & 79 & 72\\\\\n\tLeBronJames & 81 & 79\\\\\n\tCarmeloAnthony & 66 & 77\\\\\n\tDwightHoward & 79 & 78\\\\\n\tChrisBosh & 77 & 77\\\\\n\tChrisPaul & 78 & 80\\\\\n\tKevinDurant & 74 & 78\\\\\n\tDerrickRose & 81 & 81\\\\\n\tDwayneWade & 79 & 76\\\\\n\\end{tabular}\n",
            "text/plain": [
              "               2008 2010\n",
              "KobeBryant     82   82  \n",
              "JoeJohnson     79   72  \n",
              "LeBronJames    81   79  \n",
              "CarmeloAnthony 66   77  \n",
              "DwightHoward   79   78  \n",
              "ChrisBosh      77   77  \n",
              "ChrisPaul      78   80  \n",
              "KevinDurant    74   78  \n",
              "DerrickRose    81   81  \n",
              "DwayneWade     79   76  "
            ]
          },
          "metadata": {}
        }
      ]
    },
    {
      "cell_type": "code",
      "source": [],
      "metadata": {
        "id": "ijWu0mbO3UhS"
      },
      "execution_count": null,
      "outputs": []
    },
    {
      "cell_type": "code",
      "source": [],
      "metadata": {
        "id": "oAbBZYYU3eIM"
      },
      "execution_count": null,
      "outputs": []
    },
    {
      "cell_type": "markdown",
      "source": [
        "### Matrix are always 2D let's show you with some examples"
      ],
      "metadata": {
        "id": "7VJfB6qF3lBZ"
      }
    },
    {
      "cell_type": "code",
      "source": [
        "d<-Games[1,]\n",
        "d"
      ],
      "metadata": {
        "colab": {
          "base_uri": "https://localhost:8080/",
          "height": 34
        },
        "id": "Y1YbMJ_i3qBa",
        "outputId": "f34480cd-e04e-4762-949b-87b4069ea51e"
      },
      "execution_count": 18,
      "outputs": [
        {
          "output_type": "display_data",
          "data": {
            "text/html": [
              "<style>\n",
              ".dl-inline {width: auto; margin:0; padding: 0}\n",
              ".dl-inline>dt, .dl-inline>dd {float: none; width: auto; display: inline-block}\n",
              ".dl-inline>dt::after {content: \":\\0020\"; padding-right: .5ex}\n",
              ".dl-inline>dt:not(:first-of-type) {padding-left: .5ex}\n",
              "</style><dl class=dl-inline><dt>2005</dt><dd>80</dd><dt>2006</dt><dd>77</dd><dt>2007</dt><dd>82</dd><dt>2008</dt><dd>82</dd><dt>2009</dt><dd>73</dd><dt>2010</dt><dd>82</dd><dt>2011</dt><dd>58</dd><dt>2012</dt><dd>78</dd><dt>2013</dt><dd>6</dd><dt>2014</dt><dd>35</dd></dl>\n"
            ],
            "text/markdown": "2005\n:   802006\n:   772007\n:   822008\n:   822009\n:   732010\n:   822011\n:   582012\n:   782013\n:   62014\n:   35\n\n",
            "text/latex": "\\begin{description*}\n\\item[2005] 80\n\\item[2006] 77\n\\item[2007] 82\n\\item[2008] 82\n\\item[2009] 73\n\\item[2010] 82\n\\item[2011] 58\n\\item[2012] 78\n\\item[2013] 6\n\\item[2014] 35\n\\end{description*}\n",
            "text/plain": [
              "2005 2006 2007 2008 2009 2010 2011 2012 2013 2014 \n",
              "  80   77   82   82   73   82   58   78    6   35 "
            ]
          },
          "metadata": {}
        }
      ]
    },
    {
      "cell_type": "code",
      "source": [
        "is.matrix(d)"
      ],
      "metadata": {
        "colab": {
          "base_uri": "https://localhost:8080/",
          "height": 34
        },
        "id": "gSpyppjv3uDj",
        "outputId": "e4d9bd9a-b683-467a-e433-bc4449b5a310"
      },
      "execution_count": 19,
      "outputs": [
        {
          "output_type": "display_data",
          "data": {
            "text/html": [
              "FALSE"
            ],
            "text/markdown": "FALSE",
            "text/latex": "FALSE",
            "text/plain": [
              "[1] FALSE"
            ]
          },
          "metadata": {}
        }
      ]
    },
    {
      "cell_type": "code",
      "source": [
        "is.vector(d)"
      ],
      "metadata": {
        "colab": {
          "base_uri": "https://localhost:8080/",
          "height": 34
        },
        "id": "XCVG2v6L3yrR",
        "outputId": "81ed3954-1f24-4125-af1b-bd5cce15b5b6"
      },
      "execution_count": 21,
      "outputs": [
        {
          "output_type": "display_data",
          "data": {
            "text/html": [
              "TRUE"
            ],
            "text/markdown": "TRUE",
            "text/latex": "TRUE",
            "text/plain": [
              "[1] TRUE"
            ]
          },
          "metadata": {}
        }
      ]
    },
    {
      "cell_type": "code",
      "source": [],
      "metadata": {
        "id": "m10k-D6631Ob"
      },
      "execution_count": null,
      "outputs": []
    },
    {
      "cell_type": "code",
      "source": [
        "d<-Games[,c('2008','2010')]\n",
        "print(is.matrix(d))"
      ],
      "metadata": {
        "colab": {
          "base_uri": "https://localhost:8080/"
        },
        "id": "6epkxonN34Bk",
        "outputId": "20c70dbb-8afe-45e0-c550-687872bbe6db"
      },
      "execution_count": 22,
      "outputs": [
        {
          "output_type": "stream",
          "name": "stdout",
          "text": [
            "[1] TRUE\n"
          ]
        }
      ]
    },
    {
      "cell_type": "code",
      "source": [],
      "metadata": {
        "id": "JBX7TL2L38Ao"
      },
      "execution_count": 23,
      "outputs": []
    },
    {
      "cell_type": "code",
      "source": [],
      "metadata": {
        "id": "wI2pwLPm4ICw"
      },
      "execution_count": null,
      "outputs": []
    },
    {
      "cell_type": "markdown",
      "source": [
        "## To get the consistent or default function of the sqaure brackets[] we should use drop=F"
      ],
      "metadata": {
        "id": "kABt0sqs4IZB"
      }
    },
    {
      "cell_type": "markdown",
      "source": [
        "Drop actually deletes 1 dimension of the matrix so we need to mention it False"
      ],
      "metadata": {
        "id": "vwEAn8H14QUB"
      }
    },
    {
      "cell_type": "code",
      "source": [
        "d<-Games[1,,drop=F]\n",
        "d"
      ],
      "metadata": {
        "colab": {
          "base_uri": "https://localhost:8080/",
          "height": 98
        },
        "id": "fpRP8HMJ4Pek",
        "outputId": "285776e7-20bf-4015-daf9-78aaacda6d6c"
      },
      "execution_count": 24,
      "outputs": [
        {
          "output_type": "display_data",
          "data": {
            "text/html": [
              "<table class=\"dataframe\">\n",
              "<caption>A matrix: 1 × 10 of type dbl</caption>\n",
              "<thead>\n",
              "\t<tr><th></th><th scope=col>2005</th><th scope=col>2006</th><th scope=col>2007</th><th scope=col>2008</th><th scope=col>2009</th><th scope=col>2010</th><th scope=col>2011</th><th scope=col>2012</th><th scope=col>2013</th><th scope=col>2014</th></tr>\n",
              "</thead>\n",
              "<tbody>\n",
              "\t<tr><th scope=row>KobeBryant</th><td>80</td><td>77</td><td>82</td><td>82</td><td>73</td><td>82</td><td>58</td><td>78</td><td>6</td><td>35</td></tr>\n",
              "</tbody>\n",
              "</table>\n"
            ],
            "text/markdown": "\nA matrix: 1 × 10 of type dbl\n\n| <!--/--> | 2005 | 2006 | 2007 | 2008 | 2009 | 2010 | 2011 | 2012 | 2013 | 2014 |\n|---|---|---|---|---|---|---|---|---|---|---|\n| KobeBryant | 80 | 77 | 82 | 82 | 73 | 82 | 58 | 78 | 6 | 35 |\n\n",
            "text/latex": "A matrix: 1 × 10 of type dbl\n\\begin{tabular}{r|llllllllll}\n  & 2005 & 2006 & 2007 & 2008 & 2009 & 2010 & 2011 & 2012 & 2013 & 2014\\\\\n\\hline\n\tKobeBryant & 80 & 77 & 82 & 82 & 73 & 82 & 58 & 78 & 6 & 35\\\\\n\\end{tabular}\n",
            "text/plain": [
              "           2005 2006 2007 2008 2009 2010 2011 2012 2013 2014\n",
              "KobeBryant 80   77   82   82   73   82   58   78   6    35  "
            ]
          },
          "metadata": {}
        }
      ]
    },
    {
      "cell_type": "code",
      "source": [
        "is.matrix(d)"
      ],
      "metadata": {
        "colab": {
          "base_uri": "https://localhost:8080/",
          "height": 34
        },
        "id": "ewJsFh4h4gdD",
        "outputId": "8e75deee-7bb5-4a41-b5f3-0cdc0b0f804c"
      },
      "execution_count": 25,
      "outputs": [
        {
          "output_type": "display_data",
          "data": {
            "text/html": [
              "TRUE"
            ],
            "text/markdown": "TRUE",
            "text/latex": "TRUE",
            "text/plain": [
              "[1] TRUE"
            ]
          },
          "metadata": {}
        }
      ]
    },
    {
      "cell_type": "code",
      "source": [],
      "metadata": {
        "id": "_Qh51eeC4hfh"
      },
      "execution_count": null,
      "outputs": []
    }
  ]
}